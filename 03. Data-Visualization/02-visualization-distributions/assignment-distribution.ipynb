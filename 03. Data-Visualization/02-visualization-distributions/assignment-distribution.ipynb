{
 "cells": [
  {
   "cell_type": "code",
   "execution_count": 1,
   "id": "ef5dcf05",
   "metadata": {},
   "outputs": [
    {
     "data": {
      "application/vnd.microsoft.datawrangler.viewer.v0+json": {
       "columns": [
        {
         "name": "index",
         "rawType": "int64",
         "type": "integer"
        },
        {
         "name": "Unnamed: 0",
         "rawType": "int64",
         "type": "integer"
        },
        {
         "name": "work_year",
         "rawType": "int64",
         "type": "integer"
        },
        {
         "name": "experience_level",
         "rawType": "object",
         "type": "string"
        },
        {
         "name": "employment_type",
         "rawType": "object",
         "type": "string"
        },
        {
         "name": "job_title",
         "rawType": "object",
         "type": "string"
        },
        {
         "name": "salary",
         "rawType": "int64",
         "type": "integer"
        },
        {
         "name": "salary_currency",
         "rawType": "object",
         "type": "string"
        },
        {
         "name": "salary_in_usd",
         "rawType": "int64",
         "type": "integer"
        },
        {
         "name": "employee_residence",
         "rawType": "object",
         "type": "string"
        },
        {
         "name": "remote_ratio",
         "rawType": "int64",
         "type": "integer"
        },
        {
         "name": "company_location",
         "rawType": "object",
         "type": "string"
        },
        {
         "name": "company_size",
         "rawType": "object",
         "type": "string"
        }
       ],
       "ref": "e4493947-158e-4d61-9fbb-42e116f80925",
       "rows": [
        [
         "0",
         "0",
         "2020",
         "MI",
         "FT",
         "Data Scientist",
         "70000",
         "EUR",
         "79833",
         "DE",
         "0",
         "DE",
         "L"
        ],
        [
         "1",
         "1",
         "2020",
         "SE",
         "FT",
         "Machine Learning Scientist",
         "260000",
         "USD",
         "260000",
         "JP",
         "0",
         "JP",
         "S"
        ],
        [
         "2",
         "2",
         "2020",
         "SE",
         "FT",
         "Big Data Engineer",
         "85000",
         "GBP",
         "109024",
         "GB",
         "50",
         "GB",
         "M"
        ],
        [
         "3",
         "3",
         "2020",
         "MI",
         "FT",
         "Product Data Analyst",
         "20000",
         "USD",
         "20000",
         "HN",
         "0",
         "HN",
         "S"
        ],
        [
         "4",
         "4",
         "2020",
         "SE",
         "FT",
         "Machine Learning Engineer",
         "150000",
         "USD",
         "150000",
         "US",
         "50",
         "US",
         "L"
        ]
       ],
       "shape": {
        "columns": 12,
        "rows": 5
       }
      },
      "text/html": [
       "<div>\n",
       "<style scoped>\n",
       "    .dataframe tbody tr th:only-of-type {\n",
       "        vertical-align: middle;\n",
       "    }\n",
       "\n",
       "    .dataframe tbody tr th {\n",
       "        vertical-align: top;\n",
       "    }\n",
       "\n",
       "    .dataframe thead th {\n",
       "        text-align: right;\n",
       "    }\n",
       "</style>\n",
       "<table border=\"1\" class=\"dataframe\">\n",
       "  <thead>\n",
       "    <tr style=\"text-align: right;\">\n",
       "      <th></th>\n",
       "      <th>Unnamed: 0</th>\n",
       "      <th>work_year</th>\n",
       "      <th>experience_level</th>\n",
       "      <th>employment_type</th>\n",
       "      <th>job_title</th>\n",
       "      <th>salary</th>\n",
       "      <th>salary_currency</th>\n",
       "      <th>salary_in_usd</th>\n",
       "      <th>employee_residence</th>\n",
       "      <th>remote_ratio</th>\n",
       "      <th>company_location</th>\n",
       "      <th>company_size</th>\n",
       "    </tr>\n",
       "  </thead>\n",
       "  <tbody>\n",
       "    <tr>\n",
       "      <th>0</th>\n",
       "      <td>0</td>\n",
       "      <td>2020</td>\n",
       "      <td>MI</td>\n",
       "      <td>FT</td>\n",
       "      <td>Data Scientist</td>\n",
       "      <td>70000</td>\n",
       "      <td>EUR</td>\n",
       "      <td>79833</td>\n",
       "      <td>DE</td>\n",
       "      <td>0</td>\n",
       "      <td>DE</td>\n",
       "      <td>L</td>\n",
       "    </tr>\n",
       "    <tr>\n",
       "      <th>1</th>\n",
       "      <td>1</td>\n",
       "      <td>2020</td>\n",
       "      <td>SE</td>\n",
       "      <td>FT</td>\n",
       "      <td>Machine Learning Scientist</td>\n",
       "      <td>260000</td>\n",
       "      <td>USD</td>\n",
       "      <td>260000</td>\n",
       "      <td>JP</td>\n",
       "      <td>0</td>\n",
       "      <td>JP</td>\n",
       "      <td>S</td>\n",
       "    </tr>\n",
       "    <tr>\n",
       "      <th>2</th>\n",
       "      <td>2</td>\n",
       "      <td>2020</td>\n",
       "      <td>SE</td>\n",
       "      <td>FT</td>\n",
       "      <td>Big Data Engineer</td>\n",
       "      <td>85000</td>\n",
       "      <td>GBP</td>\n",
       "      <td>109024</td>\n",
       "      <td>GB</td>\n",
       "      <td>50</td>\n",
       "      <td>GB</td>\n",
       "      <td>M</td>\n",
       "    </tr>\n",
       "    <tr>\n",
       "      <th>3</th>\n",
       "      <td>3</td>\n",
       "      <td>2020</td>\n",
       "      <td>MI</td>\n",
       "      <td>FT</td>\n",
       "      <td>Product Data Analyst</td>\n",
       "      <td>20000</td>\n",
       "      <td>USD</td>\n",
       "      <td>20000</td>\n",
       "      <td>HN</td>\n",
       "      <td>0</td>\n",
       "      <td>HN</td>\n",
       "      <td>S</td>\n",
       "    </tr>\n",
       "    <tr>\n",
       "      <th>4</th>\n",
       "      <td>4</td>\n",
       "      <td>2020</td>\n",
       "      <td>SE</td>\n",
       "      <td>FT</td>\n",
       "      <td>Machine Learning Engineer</td>\n",
       "      <td>150000</td>\n",
       "      <td>USD</td>\n",
       "      <td>150000</td>\n",
       "      <td>US</td>\n",
       "      <td>50</td>\n",
       "      <td>US</td>\n",
       "      <td>L</td>\n",
       "    </tr>\n",
       "  </tbody>\n",
       "</table>\n",
       "</div>"
      ],
      "text/plain": [
       "   Unnamed: 0  work_year experience_level employment_type  \\\n",
       "0           0       2020               MI              FT   \n",
       "1           1       2020               SE              FT   \n",
       "2           2       2020               SE              FT   \n",
       "3           3       2020               MI              FT   \n",
       "4           4       2020               SE              FT   \n",
       "\n",
       "                    job_title  salary salary_currency  salary_in_usd  \\\n",
       "0              Data Scientist   70000             EUR          79833   \n",
       "1  Machine Learning Scientist  260000             USD         260000   \n",
       "2           Big Data Engineer   85000             GBP         109024   \n",
       "3        Product Data Analyst   20000             USD          20000   \n",
       "4   Machine Learning Engineer  150000             USD         150000   \n",
       "\n",
       "  employee_residence  remote_ratio company_location company_size  \n",
       "0                 DE             0               DE            L  \n",
       "1                 JP             0               JP            S  \n",
       "2                 GB            50               GB            M  \n",
       "3                 HN             0               HN            S  \n",
       "4                 US            50               US            L  "
      ]
     },
     "execution_count": 1,
     "metadata": {},
     "output_type": "execute_result"
    }
   ],
   "source": [
    "# Import neccessary libraries\n",
    "import pandas as pd\n",
    "import numpy as np\n",
    "import matplotlib.pyplot as plt\n",
    "\n",
    "# Load the dataset\n",
    "ds_salaries = pd.read_csv('../ds_salaries.csv')\n",
    "ds_salaries.head()"
   ]
  },
  {
   "cell_type": "markdown",
   "id": "ce751fbd",
   "metadata": {},
   "source": [
    "##  we check for the dataset informations"
   ]
  },
  {
   "cell_type": "code",
   "execution_count": 2,
   "id": "2d31296f",
   "metadata": {},
   "outputs": [
    {
     "name": "stdout",
     "output_type": "stream",
     "text": [
      "<class 'pandas.core.frame.DataFrame'>\n",
      "RangeIndex: 607 entries, 0 to 606\n",
      "Data columns (total 12 columns):\n",
      " #   Column              Non-Null Count  Dtype \n",
      "---  ------              --------------  ----- \n",
      " 0   Unnamed: 0          607 non-null    int64 \n",
      " 1   work_year           607 non-null    int64 \n",
      " 2   experience_level    607 non-null    object\n",
      " 3   employment_type     607 non-null    object\n",
      " 4   job_title           607 non-null    object\n",
      " 5   salary              607 non-null    int64 \n",
      " 6   salary_currency     607 non-null    object\n",
      " 7   salary_in_usd       607 non-null    int64 \n",
      " 8   employee_residence  607 non-null    object\n",
      " 9   remote_ratio        607 non-null    int64 \n",
      " 10  company_location    607 non-null    object\n",
      " 11  company_size        607 non-null    object\n",
      "dtypes: int64(5), object(7)\n",
      "memory usage: 57.0+ KB\n",
      "None\n"
     ]
    }
   ],
   "source": [
    "print(ds_salaries.info())"
   ]
  },
  {
   "cell_type": "markdown",
   "id": "e7a91cf8",
   "metadata": {},
   "source": [
    "##  we check for the salaries in USD\n",
    "### The histogram shows that most data science salaries are concentrated at the lower end of the salary range, with a long tail towards higher salaries. This suggests that while a few roles offer very high salaries, the majority of positions pay more modestly."
   ]
  },
  {
   "cell_type": "code",
   "execution_count": 3,
   "id": "83fb8eac",
   "metadata": {},
   "outputs": [
    {
     "data": {
      "image/png": "[encoded data removed]",
      "text/plain": [
       "<Figure size 640x480 with 1 Axes>"
      ]
     },
     "metadata": {},
     "output_type": "display_data"
    }
   ],
   "source": [
    "plt.hist(ds_salaries['salary_in_usd'], bins=10, edgecolor='black')\n",
    "plt.title('Salary In USD Distribution')\n",
    "plt.xlabel('Salary')\n",
    "plt.ylabel('Frequency')\n",
    "plt.show()"
   ]
  },
  {
   "cell_type": "markdown",
   "id": "87d52af1",
   "metadata": {},
   "source": [
    "### In the dataset, several acronyms are used to describe experience level. Here are the full meanings of the acronyms:\n",
    "\n",
    "#### EN – Entry-level\n",
    "#### MI – Mid-level\n",
    "#### SE – Senior-level\n",
    "#### EX – Executive-level"
   ]
  },
  {
   "cell_type": "code",
   "execution_count": 4,
   "id": "9241c1a1",
   "metadata": {},
   "outputs": [
    {
     "name": "stdout",
     "output_type": "stream",
     "text": [
      "Experiece levels: ['MI' 'SE' 'EN' 'EX']\n",
      "Company sizes: ['L' 'S' 'M']\n"
     ]
    }
   ],
   "source": [
    "print(f\"Experiece levels: {ds_salaries['experience_level'].unique()}\")\n",
    "print(f\"Company sizes: {ds_salaries['company_size'].unique()}\")"
   ]
  },
  {
   "cell_type": "markdown",
   "id": "fc48b2f8",
   "metadata": {},
   "source": [
    "### The visualization below shows that higher experience levels generally correspond to higher salaries, regardless of company size. Larger companies ('L') tend to offer higher salaries across all experience levels compared to medium ('M') and small ('S') companies."
   ]
  },
  {
   "cell_type": "code",
   "execution_count": 5,
   "id": "5b68e9d9",
   "metadata": {},
   "outputs": [
    {
     "data": {
      "image/png": "[encoded data removed]",
      "text/plain": [
       "<Figure size 640x480 with 1 Axes>"
      ]
     },
     "metadata": {},
     "output_type": "display_data"
    }
   ],
   "source": [
    "# Colorblind-friendly palette\n",
    "color_map = {\n",
    "    'S': '#E69F00',  # orange\n",
    "    'M': '#56B4E9',  # sky blue\n",
    "    'L': '#009E73'   # bluish green\n",
    "}\n",
    "\n",
    "# Plot each company size separately\n",
    "for size in ['S', 'M', 'L']:\n",
    "    subset = ds_salaries[ds_salaries['company_size'] == size]\n",
    "    plt.scatter(\n",
    "        subset['salary_in_usd'],\n",
    "        subset['experience_level'],\n",
    "        color=color_map[size],\n",
    "        label=f'Size: {size}',\n",
    "        alpha=0.7\n",
    "    )\n",
    "\n",
    "# Labels and legend\n",
    "plt.title('Experience Level vs Salary in USD')\n",
    "plt.xlabel('Salary in USD')\n",
    "plt.ylabel('Experience Level')\n",
    "plt.legend(title='Company Size')\n",
    "plt.show()"
   ]
  }
 ],
 "metadata": {
  "kernelspec": {
   "display_name": "Python 3",
   "language": "python",
   "name": "python3"
  },
  "language_info": {
   "codemirror_mode": {
    "name": "ipython",
    "version": 3
   },
   "file_extension": ".py",
   "mimetype": "text/x-python",
   "name": "python",
   "nbconvert_exporter": "python",
   "pygments_lexer": "ipython3",
   "version": "3.13.3"
  }
 },
 "nbformat": 4,
 "nbformat_minor": 5
}
