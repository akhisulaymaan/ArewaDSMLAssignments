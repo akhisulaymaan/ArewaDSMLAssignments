{
 "cells": [
  {
   "cell_type": "code",
   "execution_count": 4,
   "id": "89a3a2f5",
   "metadata": {},
   "outputs": [
    {
     "data": {
      "application/vnd.microsoft.datawrangler.viewer.v0+json": {
       "columns": [
        {
         "name": "index",
         "rawType": "int64",
         "type": "integer"
        },
        {
         "name": "Name",
         "rawType": "object",
         "type": "string"
        },
        {
         "name": "ScientificName",
         "rawType": "object",
         "type": "string"
        },
        {
         "name": "Category",
         "rawType": "object",
         "type": "string"
        },
        {
         "name": "Order",
         "rawType": "object",
         "type": "string"
        },
        {
         "name": "Family",
         "rawType": "object",
         "type": "string"
        },
        {
         "name": "Genus",
         "rawType": "object",
         "type": "string"
        },
        {
         "name": "ConservationStatus",
         "rawType": "object",
         "type": "string"
        },
        {
         "name": "MinLength",
         "rawType": "float64",
         "type": "float"
        },
        {
         "name": "MaxLength",
         "rawType": "float64",
         "type": "float"
        },
        {
         "name": "MinBodyMass",
         "rawType": "float64",
         "type": "float"
        },
        {
         "name": "MaxBodyMass",
         "rawType": "float64",
         "type": "float"
        },
        {
         "name": "MinWingspan",
         "rawType": "float64",
         "type": "float"
        },
        {
         "name": "MaxWingspan",
         "rawType": "float64",
         "type": "float"
        }
       ],
       "ref": "ca7e0b19-c234-4b47-a326-4723d90cebe8",
       "rows": [
        [
         "0",
         "Black-bellied whistling-duck",
         "Dendrocygna autumnalis",
         "Ducks/Geese/Waterfowl",
         "Anseriformes",
         "Anatidae",
         "Dendrocygna",
         "LC",
         "47.0",
         "56.0",
         "652.0",
         "1020.0",
         "76.0",
         "94.0"
        ],
        [
         "1",
         "Fulvous whistling-duck",
         "Dendrocygna bicolor",
         "Ducks/Geese/Waterfowl",
         "Anseriformes",
         "Anatidae",
         "Dendrocygna",
         "LC",
         "45.0",
         "53.0",
         "712.0",
         "1050.0",
         "85.0",
         "93.0"
        ],
        [
         "2",
         "Snow goose",
         "Anser caerulescens",
         "Ducks/Geese/Waterfowl",
         "Anseriformes",
         "Anatidae",
         "Anser",
         "LC",
         "64.0",
         "79.0",
         "2050.0",
         "4050.0",
         "135.0",
         "165.0"
        ],
        [
         "3",
         "Ross's goose",
         "Anser rossii",
         "Ducks/Geese/Waterfowl",
         "Anseriformes",
         "Anatidae",
         "Anser",
         "LC",
         "57.3",
         "64.0",
         "1066.0",
         "1567.0",
         "113.0",
         "116.0"
        ],
        [
         "4",
         "Greater white-fronted goose",
         "Anser albifrons",
         "Ducks/Geese/Waterfowl",
         "Anseriformes",
         "Anatidae",
         "Anser",
         "LC",
         "64.0",
         "81.0",
         "1930.0",
         "3310.0",
         "130.0",
         "165.0"
        ]
       ],
       "shape": {
        "columns": 13,
        "rows": 5
       }
      },
      "text/html": [
       "<div>\n",
       "<style scoped>\n",
       "    .dataframe tbody tr th:only-of-type {\n",
       "        vertical-align: middle;\n",
       "    }\n",
       "\n",
       "    .dataframe tbody tr th {\n",
       "        vertical-align: top;\n",
       "    }\n",
       "\n",
       "    .dataframe thead th {\n",
       "        text-align: right;\n",
       "    }\n",
       "</style>\n",
       "<table border=\"1\" class=\"dataframe\">\n",
       "  <thead>\n",
       "    <tr style=\"text-align: right;\">\n",
       "      <th></th>\n",
       "      <th>Name</th>\n",
       "      <th>ScientificName</th>\n",
       "      <th>Category</th>\n",
       "      <th>Order</th>\n",
       "      <th>Family</th>\n",
       "      <th>Genus</th>\n",
       "      <th>ConservationStatus</th>\n",
       "      <th>MinLength</th>\n",
       "      <th>MaxLength</th>\n",
       "      <th>MinBodyMass</th>\n",
       "      <th>MaxBodyMass</th>\n",
       "      <th>MinWingspan</th>\n",
       "      <th>MaxWingspan</th>\n",
       "    </tr>\n",
       "  </thead>\n",
       "  <tbody>\n",
       "    <tr>\n",
       "      <th>0</th>\n",
       "      <td>Black-bellied whistling-duck</td>\n",
       "      <td>Dendrocygna autumnalis</td>\n",
       "      <td>Ducks/Geese/Waterfowl</td>\n",
       "      <td>Anseriformes</td>\n",
       "      <td>Anatidae</td>\n",
       "      <td>Dendrocygna</td>\n",
       "      <td>LC</td>\n",
       "      <td>47.0</td>\n",
       "      <td>56.0</td>\n",
       "      <td>652.0</td>\n",
       "      <td>1020.0</td>\n",
       "      <td>76.0</td>\n",
       "      <td>94.0</td>\n",
       "    </tr>\n",
       "    <tr>\n",
       "      <th>1</th>\n",
       "      <td>Fulvous whistling-duck</td>\n",
       "      <td>Dendrocygna bicolor</td>\n",
       "      <td>Ducks/Geese/Waterfowl</td>\n",
       "      <td>Anseriformes</td>\n",
       "      <td>Anatidae</td>\n",
       "      <td>Dendrocygna</td>\n",
       "      <td>LC</td>\n",
       "      <td>45.0</td>\n",
       "      <td>53.0</td>\n",
       "      <td>712.0</td>\n",
       "      <td>1050.0</td>\n",
       "      <td>85.0</td>\n",
       "      <td>93.0</td>\n",
       "    </tr>\n",
       "    <tr>\n",
       "      <th>2</th>\n",
       "      <td>Snow goose</td>\n",
       "      <td>Anser caerulescens</td>\n",
       "      <td>Ducks/Geese/Waterfowl</td>\n",
       "      <td>Anseriformes</td>\n",
       "      <td>Anatidae</td>\n",
       "      <td>Anser</td>\n",
       "      <td>LC</td>\n",
       "      <td>64.0</td>\n",
       "      <td>79.0</td>\n",
       "      <td>2050.0</td>\n",
       "      <td>4050.0</td>\n",
       "      <td>135.0</td>\n",
       "      <td>165.0</td>\n",
       "    </tr>\n",
       "    <tr>\n",
       "      <th>3</th>\n",
       "      <td>Ross's goose</td>\n",
       "      <td>Anser rossii</td>\n",
       "      <td>Ducks/Geese/Waterfowl</td>\n",
       "      <td>Anseriformes</td>\n",
       "      <td>Anatidae</td>\n",
       "      <td>Anser</td>\n",
       "      <td>LC</td>\n",
       "      <td>57.3</td>\n",
       "      <td>64.0</td>\n",
       "      <td>1066.0</td>\n",
       "      <td>1567.0</td>\n",
       "      <td>113.0</td>\n",
       "      <td>116.0</td>\n",
       "    </tr>\n",
       "    <tr>\n",
       "      <th>4</th>\n",
       "      <td>Greater white-fronted goose</td>\n",
       "      <td>Anser albifrons</td>\n",
       "      <td>Ducks/Geese/Waterfowl</td>\n",
       "      <td>Anseriformes</td>\n",
       "      <td>Anatidae</td>\n",
       "      <td>Anser</td>\n",
       "      <td>LC</td>\n",
       "      <td>64.0</td>\n",
       "      <td>81.0</td>\n",
       "      <td>1930.0</td>\n",
       "      <td>3310.0</td>\n",
       "      <td>130.0</td>\n",
       "      <td>165.0</td>\n",
       "    </tr>\n",
       "  </tbody>\n",
       "</table>\n",
       "</div>"
      ],
      "text/plain": [
       "                           Name          ScientificName  \\\n",
       "0  Black-bellied whistling-duck  Dendrocygna autumnalis   \n",
       "1        Fulvous whistling-duck     Dendrocygna bicolor   \n",
       "2                    Snow goose      Anser caerulescens   \n",
       "3                  Ross's goose            Anser rossii   \n",
       "4   Greater white-fronted goose         Anser albifrons   \n",
       "\n",
       "                Category         Order    Family        Genus  \\\n",
       "0  Ducks/Geese/Waterfowl  Anseriformes  Anatidae  Dendrocygna   \n",
       "1  Ducks/Geese/Waterfowl  Anseriformes  Anatidae  Dendrocygna   \n",
       "2  Ducks/Geese/Waterfowl  Anseriformes  Anatidae        Anser   \n",
       "3  Ducks/Geese/Waterfowl  Anseriformes  Anatidae        Anser   \n",
       "4  Ducks/Geese/Waterfowl  Anseriformes  Anatidae        Anser   \n",
       "\n",
       "  ConservationStatus  MinLength  MaxLength  MinBodyMass  MaxBodyMass  \\\n",
       "0                 LC       47.0       56.0        652.0       1020.0   \n",
       "1                 LC       45.0       53.0        712.0       1050.0   \n",
       "2                 LC       64.0       79.0       2050.0       4050.0   \n",
       "3                 LC       57.3       64.0       1066.0       1567.0   \n",
       "4                 LC       64.0       81.0       1930.0       3310.0   \n",
       "\n",
       "   MinWingspan  MaxWingspan  \n",
       "0         76.0         94.0  \n",
       "1         85.0         93.0  \n",
       "2        135.0        165.0  \n",
       "3        113.0        116.0  \n",
       "4        130.0        165.0  "
      ]
     },
     "execution_count": 4,
     "metadata": {},
     "output_type": "execute_result"
    }
   ],
   "source": [
    "import pandas as pd\n",
    "import matplotlib.pyplot as plt\n",
    "birds = pd.read_csv('../birds.csv')\n",
    "birds.head()"
   ]
  },
  {
   "cell_type": "code",
   "execution_count": 5,
   "id": "1fa117c9",
   "metadata": {},
   "outputs": [
    {
     "data": {
      "application/vnd.microsoft.datawrangler.viewer.v0+json": {
       "columns": [
        {
         "name": "index",
         "rawType": "object",
         "type": "string"
        },
        {
         "name": "61",
         "rawType": "object",
         "type": "unknown"
        }
       ],
       "ref": "437cf448-9ecf-4285-942d-9ddf3832428a",
       "rows": [
        [
         "Name",
         "Rock pigeon"
        ],
        [
         "ScientificName",
         "Columba livia"
        ],
        [
         "Category",
         "Pigeons/Doves"
        ],
        [
         "Order",
         "Columbiformes"
        ],
        [
         "Family",
         "Columbidae"
        ],
        [
         "Genus",
         "Columba"
        ],
        [
         "ConservationStatus",
         "LC"
        ],
        [
         "MinLength",
         "29.0"
        ],
        [
         "MaxLength",
         "37.0"
        ],
        [
         "MinBodyMass",
         "238.0"
        ],
        [
         "MaxBodyMass",
         "380.0"
        ],
        [
         "MinWingspan",
         "62.0"
        ],
        [
         "MaxWingspan",
         "72.0"
        ]
       ],
       "shape": {
        "columns": 1,
        "rows": 13
       }
      },
      "text/plain": [
       "Name                    Rock pigeon\n",
       "ScientificName        Columba livia\n",
       "Category              Pigeons/Doves\n",
       "Order                 Columbiformes\n",
       "Family                   Columbidae\n",
       "Genus                       Columba\n",
       "ConservationStatus               LC\n",
       "MinLength                      29.0\n",
       "MaxLength                      37.0\n",
       "MinBodyMass                   238.0\n",
       "MaxBodyMass                   380.0\n",
       "MinWingspan                    62.0\n",
       "MaxWingspan                    72.0\n",
       "Name: 61, dtype: object"
      ]
     },
     "execution_count": 5,
     "metadata": {},
     "output_type": "execute_result"
    }
   ],
   "source": [
    "# Filter for Rock Pigeon\n",
    "rock_pigeon = birds[birds['Name'] == 'Rock pigeon'].iloc[0]\n",
    "rock_pigeon"
   ]
  },
  {
   "cell_type": "markdown",
   "id": "dc477b2c",
   "metadata": {},
   "source": [
    "##  Bar Chart: Compare Average Size Attributes"
   ]
  },
  {
   "cell_type": "code",
   "execution_count": 6,
   "id": "a0ce9148",
   "metadata": {},
   "outputs": [
    {
     "data": {
      "image/png": "[encoded data removed]",
      "text/plain": [
       "<Figure size 640x480 with 1 Axes>"
      ]
     },
     "metadata": {},
     "output_type": "display_data"
    }
   ],
   "source": [
    "# Calculate averages\n",
    "avg_length = (rock_pigeon['MinLength'] + rock_pigeon['MaxLength']) / 2\n",
    "avg_mass = (rock_pigeon['MinBodyMass'] + rock_pigeon['MaxBodyMass']) / 2\n",
    "avg_wingspan = (rock_pigeon['MinWingspan'] + rock_pigeon['MaxWingspan']) / 2\n",
    "\n",
    "# Plot\n",
    "plt.bar(['Length', 'Body Mass', 'Wingspan'],\n",
    "        [avg_length, avg_mass, avg_wingspan],\n",
    "        color='skyblue')\n",
    "plt.title('Average Size Attributes of Rock Pigeon')\n",
    "plt.ylabel('Measurement')\n",
    "plt.show()"
   ]
  },
  {
   "cell_type": "markdown",
   "id": "da7de4d4",
   "metadata": {},
   "source": [
    "##  Line Plot: Min vs Max Ranges of Measurements"
   ]
  },
  {
   "cell_type": "code",
   "execution_count": 7,
   "id": "821336aa",
   "metadata": {},
   "outputs": [
    {
     "data": {
      "image/png": "[encoded data removed]",
      "text/plain": [
       "<Figure size 640x480 with 1 Axes>"
      ]
     },
     "metadata": {},
     "output_type": "display_data"
    }
   ],
   "source": [
    "# Min and Max values\n",
    "min_vals = [rock_pigeon['MinLength'], rock_pigeon['MinBodyMass'], rock_pigeon['MinWingspan']]\n",
    "max_vals = [rock_pigeon['MaxLength'], rock_pigeon['MaxBodyMass'], rock_pigeon['MaxWingspan']]\n",
    "labels = ['Length', 'Body Mass', 'Wingspan']\n",
    "\n",
    "# Plot\n",
    "plt.plot(labels, min_vals, marker='o', label='Min')\n",
    "plt.plot(labels, max_vals, marker='o', label='Max')\n",
    "plt.title('Min vs Max Size Measurements of Rock Pigeon')\n",
    "plt.ylabel('Measurement')\n",
    "plt.legend()\n",
    "plt.grid(True)\n",
    "plt.show()"
   ]
  },
  {
   "cell_type": "markdown",
   "id": "7949b2ae",
   "metadata": {},
   "source": [
    "##  Scatter Plot: Wingspan vs Body Mass"
   ]
  },
  {
   "cell_type": "code",
   "execution_count": 8,
   "id": "ef08aa4e",
   "metadata": {},
   "outputs": [
    {
     "data": {
      "image/png": "[encoded data removed]",
      "text/plain": [
       "<Figure size 640x480 with 1 Axes>"
      ]
     },
     "metadata": {},
     "output_type": "display_data"
    }
   ],
   "source": [
    "# X = Body Mass, Y = Wingspan\n",
    "x = [rock_pigeon['MinBodyMass'], rock_pigeon['MaxBodyMass']]\n",
    "y = [rock_pigeon['MinWingspan'], rock_pigeon['MaxWingspan']]\n",
    "labels = ['Min', 'Max']\n",
    "\n",
    "# Plot\n",
    "plt.scatter(x, y, color='green')\n",
    "for i, label in enumerate(labels):\n",
    "    plt.annotate(label, (x[i], y[i]), textcoords=\"offset points\", xytext=(5,5), ha='center')\n",
    "\n",
    "plt.title('Wingspan vs Body Mass – Rock Pigeon')\n",
    "plt.xlabel('Body Mass')\n",
    "plt.ylabel('Wingspan')\n",
    "plt.grid(True)\n",
    "plt.show()"
   ]
  }
 ],
 "metadata": {
  "kernelspec": {
   "display_name": "Python 3",
   "language": "python",
   "name": "python3"
  },
  "language_info": {
   "codemirror_mode": {
    "name": "ipython",
    "version": 3
   },
   "file_extension": ".py",
   "mimetype": "text/x-python",
   "name": "python",
   "nbconvert_exporter": "python",
   "pygments_lexer": "ipython3",
   "version": "3.13.3"
  }
 },
 "nbformat": 4,
 "nbformat_minor": 5
}
